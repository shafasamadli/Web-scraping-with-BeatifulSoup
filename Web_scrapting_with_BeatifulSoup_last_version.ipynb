{
  "nbformat": 4,
  "nbformat_minor": 0,
  "metadata": {
    "colab": {
      "provenance": []
    },
    "kernelspec": {
      "name": "python3",
      "display_name": "Python 3"
    },
    "language_info": {
      "name": "python"
    }
  },
  "cells": [
    {
      "cell_type": "code",
      "execution_count": 15,
      "metadata": {
        "id": "Wr7O_4w1Agn8"
      },
      "outputs": [],
      "source": [
        "import requests \n",
        "from bs4 import BeautifulSoup"
      ]
    },
    {
      "cell_type": "code",
      "source": [
        "import pandas as pd \n",
        "from lxml import html\n",
        "import requests\n",
        "import requests\n",
        "import lxml.html"
      ],
      "metadata": {
        "id": "L2mvoBYkimNt"
      },
      "execution_count": 16,
      "outputs": []
    },
    {
      "cell_type": "code",
      "source": [
        "def web_scraping(url='https://www.hellojob.az'):\n",
        "  vacancy_name = input(\"Enter the name of vacancy: \")\n",
        "  all_requests = f\"{url}/search?query={vacancy_name}&search_type=keyword&searched=\"\n",
        "  get_all_requests = requests.get(all_requests)\n",
        "\n",
        "  html_text = get_all_requests.text\n",
        "  soup = BeautifulSoup(html_text,'lxml')\n",
        "\n",
        "  jobs = soup.find_all('a', class_ = \"vacancies__item\")\n",
        "\n",
        "  name_of_vacancy = []\n",
        "  for i in jobs:\n",
        "    all_vacancy_names = i.find('div', class_ ='vacancies__desc')\n",
        "    vacancy_name = all_vacancy_names.h3.text\n",
        "    name_of_vacancy.append(vacancy_name)\n",
        "\n",
        "  comp_names = []\n",
        "  for j in jobs:\n",
        "    all_comp_names = j.find('div',class_='vacancies__desc')\n",
        "    show_comp_names = all_comp_names.p.text\n",
        "    comp_names.append(show_comp_names)\n",
        "  \n",
        "  salaries = []\n",
        "  for j in jobs:\n",
        "    salary = j.find('div',class_='vacancies__item__right')\n",
        "    salary_amount = salary.span.text\n",
        "    salaries.append(salary_amount)\n",
        "\n",
        "  page = requests.get(all_requests)\n",
        "  tree = html.fromstring(page.content)\n",
        "  announce_date = tree.xpath('/html/body/main/section/div/div/div[1]/a/div[2]/span[2]')\n",
        "\n",
        "  release_dates = []\n",
        "  for i in announce_date:\n",
        "    release_dates.append(''.join(i.itertext()))\n",
        "\n",
        "  \n",
        "  dom = lxml.html.fromstring(requests.get(all_requests).content)\n",
        "  links = ['https://www.hellojob.az' + x for x in dom.xpath('//a/@href') if 'vakansiya' in x and 'vakansiyalar' not in x]\n",
        "\n",
        "\n",
        "  results_of_search = pd.DataFrame(\n",
        "    {'Jobs': name_of_vacancy,\n",
        "     'Companies': comp_names,\n",
        "     'Salary': salaries,\n",
        "     'Announce_dates_of_vacancies': release_dates,\n",
        "     \"Links_of_vacancies\":links\n",
        "    })\n",
        "  \n",
        "  return results_of_search"
      ],
      "metadata": {
        "id": "1kFO5bNW-iNV"
      },
      "execution_count": 32,
      "outputs": []
    },
    {
      "cell_type": "code",
      "source": [
        "results = web_scraping()"
      ],
      "metadata": {
        "id": "iRIv5wJ_-iRI",
        "colab": {
          "base_uri": "https://localhost:8080/"
        },
        "outputId": "3ad2592e-4d41-45c1-8573-2efe1b38c2fa"
      },
      "execution_count": 35,
      "outputs": [
        {
          "name": "stdout",
          "output_type": "stream",
          "text": [
            "Enter the name of vacancy: Data\n"
          ]
        }
      ]
    },
    {
      "cell_type": "code",
      "source": [
        "from google.colab import files\n",
        "results.to_csv('Searched vacancies.csv', encoding = 'utf-8-sig') \n",
        "files.download('Searched vacancies.csv')"
      ],
      "metadata": {
        "id": "gpPIPz6s-iTo",
        "colab": {
          "base_uri": "https://localhost:8080/",
          "height": 17
        },
        "outputId": "c3999ce7-4124-41eb-d49b-58415e5500c2"
      },
      "execution_count": 36,
      "outputs": [
        {
          "output_type": "display_data",
          "data": {
            "text/plain": [
              "<IPython.core.display.Javascript object>"
            ],
            "application/javascript": [
              "\n",
              "    async function download(id, filename, size) {\n",
              "      if (!google.colab.kernel.accessAllowed) {\n",
              "        return;\n",
              "      }\n",
              "      const div = document.createElement('div');\n",
              "      const label = document.createElement('label');\n",
              "      label.textContent = `Downloading \"${filename}\": `;\n",
              "      div.appendChild(label);\n",
              "      const progress = document.createElement('progress');\n",
              "      progress.max = size;\n",
              "      div.appendChild(progress);\n",
              "      document.body.appendChild(div);\n",
              "\n",
              "      const buffers = [];\n",
              "      let downloaded = 0;\n",
              "\n",
              "      const channel = await google.colab.kernel.comms.open(id);\n",
              "      // Send a message to notify the kernel that we're ready.\n",
              "      channel.send({})\n",
              "\n",
              "      for await (const message of channel.messages) {\n",
              "        // Send a message to notify the kernel that we're ready.\n",
              "        channel.send({})\n",
              "        if (message.buffers) {\n",
              "          for (const buffer of message.buffers) {\n",
              "            buffers.push(buffer);\n",
              "            downloaded += buffer.byteLength;\n",
              "            progress.value = downloaded;\n",
              "          }\n",
              "        }\n",
              "      }\n",
              "      const blob = new Blob(buffers, {type: 'application/binary'});\n",
              "      const a = document.createElement('a');\n",
              "      a.href = window.URL.createObjectURL(blob);\n",
              "      a.download = filename;\n",
              "      div.appendChild(a);\n",
              "      a.click();\n",
              "      div.remove();\n",
              "    }\n",
              "  "
            ]
          },
          "metadata": {}
        },
        {
          "output_type": "display_data",
          "data": {
            "text/plain": [
              "<IPython.core.display.Javascript object>"
            ],
            "application/javascript": [
              "download(\"download_11ecf677-0a5f-42b2-b821-0bc5317e2e4f\", \"Searched vacancies.csv\", 3201)"
            ]
          },
          "metadata": {}
        }
      ]
    },
    {
      "cell_type": "code",
      "source": [],
      "metadata": {
        "id": "TKwv7RV7-idA"
      },
      "execution_count": null,
      "outputs": []
    }
  ]
}